{
 "cells": [
  {
   "cell_type": "code",
   "execution_count": 1,
   "id": "6e99f7cb",
   "metadata": {},
   "outputs": [],
   "source": [
    "import cv2\n",
    "import mediapipe as mp\n",
    "import os"
   ]
  },
  {
   "cell_type": "markdown",
   "id": "2d580136",
   "metadata": {},
   "source": [
    "### 1) Creamos la carpeta donde almacenaremos el entrenamiento"
   ]
  },
  {
   "cell_type": "code",
   "execution_count": 2,
   "id": "9f2b84de",
   "metadata": {},
   "outputs": [],
   "source": [
    "nombre = 'LETRA C'\n",
    "direccion = 'D:/Universidad/SI Proyecto/Project_LSP/data/Validacion'\n",
    "carpeta = direccion + '/' + nombre\n",
    "if not os.path.exists(carpeta):\n",
    "    print('Carpeta creada: ',carpeta)\n",
    "    os.makedirs(carpeta)"
   ]
  },
  {
   "cell_type": "markdown",
   "id": "e65c4fe6",
   "metadata": {},
   "source": [
    "### 2) Asignamos un contador para el nombre de la fotos"
   ]
  },
  {
   "cell_type": "markdown",
   "id": "87db7eec",
   "metadata": {},
   "source": [
    "### 3) Leemos la cámara"
   ]
  },
  {
   "cell_type": "code",
   "execution_count": 3,
   "id": "0f0ff71b",
   "metadata": {},
   "outputs": [],
   "source": [
    "cap = cv2.VideoCapture(0)"
   ]
  },
  {
   "cell_type": "markdown",
   "id": "56996eb7",
   "metadata": {},
   "source": [
    "### 4) Creamos un obejto que va almacenar la deteccion y el seguimiento de las manos"
   ]
  },
  {
   "cell_type": "code",
   "execution_count": 4,
   "id": "2632aee6",
   "metadata": {},
   "outputs": [],
   "source": [
    "clase_manos  =  mp.solutions.hands\n",
    "manos = clase_manos.Hands() #Primer parametro, FALSE para que no haga la deteccion 24/7\n",
    "                            #Solo hara deteccion cuando hay una confianza alta\n",
    "                            #Segundo parametro: numero maximo de manos\n",
    "                            #Tercer parametro: confianza minima de deteccion\n",
    "                            #Cuarto parametro: confianza minima de seguimiento"
   ]
  },
  {
   "cell_type": "markdown",
   "id": "c9f424f8",
   "metadata": {},
   "source": [
    "### 5) Método para dibujar las manos"
   ]
  },
  {
   "cell_type": "code",
   "execution_count": 5,
   "id": "cf91b3b2",
   "metadata": {
    "scrolled": true
   },
   "outputs": [],
   "source": [
    "# dibujo = mp.solutions.drawing_utils #Con este metodo dibujamos 21 puntos criticos de la mano\n",
    "\n",
    "\n",
    "# while (1):\n",
    "#     ret,frame = cap.read()\n",
    "#     color = cv2.cvtColor(frame, cv2.COLOR_BGR2RGB)\n",
    "#     copia = frame.copy()\n",
    "#     resultado = manos.process(color)\n",
    "#     posiciones = []  # En esta lista vamos a almacenar las coordenadas de los puntos\n",
    "#     #print(resultado.multi_hand_landmarks) #Si queremos ver si existe la deteccion\n",
    "\n",
    "#     if resultado.multi_hand_landmarks: #Si hay algo en los resultados entramos al if\n",
    "#         for mano in resultado.multi_hand_landmarks:  #Buscamos la mano dentro de la lista de manos que nos da el descriptor\n",
    "#             for id, lm in enumerate(mano.landmark):  #Vamos a obtener la informacion de cada mano encontrada por el ID\n",
    "#                 #print(id,lm) #Como nos entregan decimales (Proporcion de la imagen) debemos pasarlo a pixeles\n",
    "#                 alto, ancho, c = frame.shape  #Extraemos el ancho y el alto de los fotpgramas para multiplicarlos por la proporcion\n",
    "#                 corx, cory = int(lm.x*ancho), int(lm.y*alto) #Extraemos la ubicacion de cada punto que pertence a la mano en coordenadas\n",
    "#                 posiciones.append([id,corx,cory])\n",
    "#                 dibujo.draw_landmarks(frame, mano, clase_manos.HAND_CONNECTIONS)\n",
    "#             if len(posiciones) != 0:\n",
    "#                 pto_i1 = posiciones[4] #5 Dedos: 4 | 0 Dedos: 3 | 1 Dedo: 2 | 2 Dedos: 3 | 3 Dedos: 4 | 4 Dedos: 8\n",
    "#                 pto_i2 = posiciones[20]#5 Dedos: 20| 0 Dedos: 17| 1 Dedo: 17| 2 Dedos: 20| 3 Dedos: 20| 4 Dedos: 20\n",
    "#                 pto_i3 = posiciones[12]#5 Dedos: 12| 0 Dedos: 10 | 1 Dedo: 20|2 Dedos: 16| 3 Dedos: 12| 4 Dedos: 12\n",
    "#                 pto_i4 = posiciones[0] #5 Dedos: 0 | 0 Dedos: 0 | 1 Dedo: 0 | 2 Dedos: 0 | 3 Dedos: 0 | 4 Dedos: 0\n",
    "#                 pto_i5 = posiciones[9] #Punto central\n",
    "#                 x1,y1 = (pto_i5[1]-100),(pto_i5[2]-100) #Obtenemos el punto incial y las longitudes\n",
    "#                 ancho, alto = (x1+200),(y1+200)\n",
    "#                 x2,y2 = x1 + ancho, y1 + alto\n",
    "#                 dedos_reg = copia[y1:y2, x1:x2]\n",
    "#                 cv2.rectangle(frame, (x1, y1), (x2, y2), (0, 255, 0), 3)\n",
    "#             dedos_reg = cv2.resize(dedos_reg,(200,200), interpolation = cv2.INTER_CUBIC) #Redimensionamos las fotos\n",
    "#             cv2.imwrite(carpeta + \"/a_{}.jpg\".format(cont),dedos_reg)\n",
    "#             cont = cont + 1\n",
    "\n",
    "\n",
    "\n",
    "\n",
    "\n",
    "#     cv2.imshow(\"Video\",frame)\n",
    "#     k = cv2.waitKey(1)\n",
    "#     if k == 27 or cont >= 300:\n",
    "#         break\n",
    "# cap.release()\n",
    "# cv2.destroyAllWindows()"
   ]
  },
  {
   "cell_type": "code",
   "execution_count": 6,
   "id": "5472e782",
   "metadata": {},
   "outputs": [
    {
     "name": "stdout",
     "output_type": "stream",
     "text": [
      "Escape hit, closing...\n"
     ]
    }
   ],
   "source": [
    "min = 50\n",
    "max = 300\n",
    "upper_left = (min, min)\n",
    "bottom_right = (max, max)\n",
    "upper_left_rectangle = (min-1, min-1)\n",
    "bottom_right_rectangle = (max+1, max+1)\n",
    "\n",
    "count = 1 \n",
    "videoCaptureObject = cv2.VideoCapture(0)\n",
    "exit = False\n",
    "while True:\n",
    "    ret,image_frame = videoCaptureObject.read()\n",
    "    if not ret:\n",
    "        break\n",
    "    \n",
    "    cv2.rectangle(image_frame, upper_left_rectangle, bottom_right_rectangle, (100, 50, 200), 1)\n",
    "    cv2.imshow(\"test\", image_frame)\n",
    "    \n",
    "    k = cv2.waitKey(1)\n",
    "    if k%256 == 32:\n",
    "        print('grabando imagenes')\n",
    "        while(count<=300):\n",
    "            ret,image_frame = videoCaptureObject.read()\n",
    "\n",
    "            #Rectangle marker\n",
    "            cv2.rectangle(image_frame, upper_left_rectangle, bottom_right_rectangle, (100, 255, 200), 1)\n",
    "            rect_img = image_frame[upper_left[1] : bottom_right[1], upper_left[0] : bottom_right[0]]\n",
    "\n",
    "            cv2.imshow(\"test\", image_frame)\n",
    "            k = cv2.waitKey(1)\n",
    "\n",
    "            if k%256 == 27:\n",
    "                print(\"Escape hit, closing...\")\n",
    "                break\n",
    "\n",
    "            cv2.imwrite(os.path.join(carpeta,f\"input_image_{count}.jpg\"),rect_img)\n",
    "            count += 1\n",
    "        exit = True\n",
    "        \n",
    "    if k%256 == 27 or exit:\n",
    "        print(\"Escape hit, closing...\")\n",
    "        break\n",
    "cap.release()\n",
    "cv2.destroyAllWindows()"
   ]
  },
  {
   "cell_type": "code",
   "execution_count": null,
   "id": "bbb85074",
   "metadata": {},
   "outputs": [],
   "source": []
  }
 ],
 "metadata": {
  "kernelspec": {
   "display_name": "Python 3 (ipykernel)",
   "language": "python",
   "name": "python3"
  },
  "language_info": {
   "codemirror_mode": {
    "name": "ipython",
    "version": 3
   },
   "file_extension": ".py",
   "mimetype": "text/x-python",
   "name": "python",
   "nbconvert_exporter": "python",
   "pygments_lexer": "ipython3",
   "version": "3.9.5"
  }
 },
 "nbformat": 4,
 "nbformat_minor": 5
}
