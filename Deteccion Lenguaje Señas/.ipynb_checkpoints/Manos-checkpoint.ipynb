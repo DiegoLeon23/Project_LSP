{
 "cells": [
  {
   "cell_type": "code",
   "execution_count": 1,
   "id": "6e99f7cb",
   "metadata": {
    "scrolled": true
   },
   "outputs": [],
   "source": [
    "import cv2\n",
    "import mediapipe as mp\n",
    "import os"
   ]
  },
  {
   "cell_type": "markdown",
   "id": "2d580136",
   "metadata": {},
   "source": [
    "### 1) Creamos la carpeta donde almacenaremos el entrenamiento"
   ]
  },
  {
   "cell_type": "code",
   "execution_count": 2,
   "id": "9f2b84de",
   "metadata": {},
   "outputs": [
    {
     "name": "stdout",
     "output_type": "stream",
     "text": [
      "Carpeta creada:  E:\\Documentos\\UNMSM\\CIX\\Project_LSP\\data\\validacion/LETRA L\n"
     ]
    }
   ],
   "source": [
    "nombre = 'LETRA L'\n",
    "direccion = r'E:\\Documentos\\UNMSM\\CIX\\Project_LSP\\data\\validacion'\n",
    "carpeta = direccion + '/' + nombre\n",
    "if not os.path.exists(carpeta):\n",
    "    print('Carpeta creada: ',carpeta)\n",
    "    os.makedirs(carpeta)"
   ]
  },
  {
   "cell_type": "markdown",
   "id": "e65c4fe6",
   "metadata": {},
   "source": [
    "### 2) Asignamos un contador para el nombre de la fotos"
   ]
  },
  {
   "cell_type": "markdown",
   "id": "87db7eec",
   "metadata": {},
   "source": [
    "### 3) Leemos la cámara"
   ]
  },
  {
   "cell_type": "code",
   "execution_count": 3,
   "id": "0f0ff71b",
   "metadata": {},
   "outputs": [],
   "source": [
    "cap = cv2.VideoCapture(0)"
   ]
  },
  {
   "cell_type": "markdown",
   "id": "56996eb7",
   "metadata": {},
   "source": [
    "### 4) Creamos un obejto que va almacenar la deteccion y el seguimiento de las manos"
   ]
  },
  {
   "cell_type": "code",
   "execution_count": 4,
   "id": "2632aee6",
   "metadata": {},
   "outputs": [],
   "source": [
    "clase_manos  =  mp.solutions.hands\n",
    "manos = clase_manos.Hands() #Primer parametro, FALSE para que no haga la deteccion 24/7\n",
    "                            #Solo hara deteccion cuando hay una confianza alta\n",
    "                            #Segundo parametro: numero maximo de manos\n",
    "                            #Tercer parametro: confianza minima de deteccion\n",
    "                            #Cuarto parametro: confianza minima de seguimiento"
   ]
  },
  {
   "cell_type": "markdown",
   "id": "c9f424f8",
   "metadata": {},
   "source": [
    "### 5) Método para dibujar las manos"
   ]
  },
  {
   "cell_type": "code",
   "execution_count": null,
   "id": "ac23a1ba",
   "metadata": {},
   "outputs": [],
   "source": [
    "min = 50\n",
    "max = 300\n",
    "upper_left = (min, min)\n",
    "bottom_right = (max, max)\n",
    "upper_left_rectangle = (min-1, min-1)\n",
    "bottom_right_rectangle = (max+1, max+1)\n",
    "\n",
    "count = 1 \n",
    "videoCaptureObject = cv2.VideoCapture(0)\n",
    "exit = False\n",
    "while True:\n",
    "    ret,image_frame = videoCaptureObject.read()\n",
    "    if not ret:\n",
    "        break\n",
    "    \n",
    "    cv2.rectangle(image_frame, upper_left_rectangle, bottom_right_rectangle, (100, 50, 200), 1)\n",
    "    cv2.imshow(\"test\", image_frame)\n",
    "    \n",
    "    k = cv2.waitKey(1)\n",
    "    if k%256 == 32:\n",
    "        print('grabando imagenes')\n",
    "        while(count<=300):\n",
    "            ret,image_frame = videoCaptureObject.read()\n",
    "\n",
    "            #Rectangle marker\n",
    "            cv2.rectangle(image_frame, upper_left_rectangle, bottom_right_rectangle, (100, 255, 200), 1)\n",
    "            rect_img = image_frame[upper_left[1] : bottom_right[1], upper_left[0] : bottom_right[0]]\n",
    "\n",
    "            cv2.imshow(\"test\", image_frame)\n",
    "            k = cv2.waitKey(1)\n",
    "\n",
    "            if k%256 == 27:\n",
    "                print(\"Escape hit, closing...\")\n",
    "                break\n",
    "\n",
    "            cv2.imwrite(os.path.join(carpeta,f\"input_image_{count}.jpg\"),rect_img)\n",
    "            count += 1\n",
    "        exit = True\n",
    "        \n",
    "    if k%256 == 27 or exit:\n",
    "        print(\"Escape hit, closing...\")\n",
    "        break\n",
    "cap.release()\n",
    "cv2.destroyAllWindows()"
   ]
  },
  {
   "cell_type": "code",
   "execution_count": null,
   "id": "27c52aa8",
   "metadata": {},
   "outputs": [],
   "source": []
  }
 ],
 "metadata": {
  "kernelspec": {
   "display_name": "Python 3",
   "language": "python",
   "name": "python3"
  },
  "language_info": {
   "codemirror_mode": {
    "name": "ipython",
    "version": 3
   },
   "file_extension": ".py",
   "mimetype": "text/x-python",
   "name": "python",
   "nbconvert_exporter": "python",
   "pygments_lexer": "ipython3",
   "version": "3.8.8"
  }
 },
 "nbformat": 4,
 "nbformat_minor": 5
}
